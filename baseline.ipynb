{
  "nbformat": 4,
  "nbformat_minor": 0,
  "metadata": {
    "colab": {
      "name": "baseline.ipynb",
      "provenance": [],
      "collapsed_sections": [],
      "toc_visible": true
    },
    "kernelspec": {
      "name": "python3",
      "display_name": "Python 3",
      "language": "python"
    },
    "accelerator": "GPU"
  },
  "cells": [
    {
      "cell_type": "code",
      "metadata": {
        "colab": {
          "base_uri": "https://localhost:8080/"
        },
        "id": "iZCk2c6aw--y",
        "outputId": "f9d9f1ed-2056-404f-8125-95ed0a51ce2c"
      },
      "source": [
        "# load google drive\n",
        "from google.colab import drive\n",
        "drive.mount('/content/gdrive')"
      ],
      "execution_count": null,
      "outputs": []
    },
    {
      "cell_type": "code",
      "metadata": {
        "colab": {
          "base_uri": "https://localhost:8080/"
        },
        "id": "Bw2uIf0SffyS",
        "outputId": "a19d9a3d-be8f-41fb-d33d-8e89dd751c98"
      },
      "source": [
        "%%shell\n",
        "\n",
        "pip install cython\n",
        "# Install pycocotools, the version by default in Colab\n",
        "# has a bug fixed in https://github.com/cocodataset/cocoapi/pull/354\n",
        "pip install -U 'git+https://github.com/cocodataset/cocoapi.git#subdirectory=PythonAPI'"
      ],
      "execution_count": null,
      "outputs": []
    },
    {
      "cell_type": "code",
      "metadata": {
        "colab": {
          "base_uri": "https://localhost:8080/"
        },
        "id": "1tzTP7ZNtKjq",
        "outputId": "a40ba1dd-85cb-46af-b1bd-8d8c19b52be7"
      },
      "source": [
        "%%shell\n",
        "\n",
        "# Download TorchVision repo to use some files from\n",
        "# references/detection\n",
        "git clone https://github.com/pytorch/vision.git\n",
        "cd vision\n",
        "git checkout v0.3.0\n",
        "\n",
        "cp references/detection/utils.py ../\n",
        "cp references/detection/transforms.py ../\n",
        "cp references/detection/coco_eval.py ../\n",
        "cp references/detection/coco_utils.py ../"
      ],
      "execution_count": null,
      "outputs": []
    },
    {
      "cell_type": "code",
      "metadata": {
        "colab": {
          "base_uri": "https://localhost:8080/"
        },
        "id": "1-rXs4QiBZtd",
        "outputId": "7feab1fd-3755-437c-d712-1ecbfb44fb11"
      },
      "source": [
        "%%shell\n",
        "\n",
        "# download github repo for py file\n",
        "git clone https://github.com/aliciachenw/11785-project.git\n",
        "cd 11785-project\n",
        "\n",
        "cp dataloader.py ../\n",
        "cp model.py ../\n",
        "cp train_teacher.py ../\n",
        "cp coco_evaluate.py ../\n",
        "cp self_training.py ../\n",
        "cp train_teacher.py ../"
      ],
      "execution_count": null,
      "outputs": []
    },
    {
      "cell_type": "markdown",
      "metadata": {
        "id": "vzLgsfhwfWAB"
      },
      "source": [
        "# **Parameters**"
      ]
    },
    {
      "cell_type": "code",
      "metadata": {
        "id": "b18fEPwi21IW",
        "colab": {
          "base_uri": "https://localhost:8080/"
        },
        "outputId": "0ae96285-006d-4ddd-b246-e3352c864450"
      },
      "source": [
        "import torch\n",
        "\n",
        "NUM_WORKERS = 8\n",
        "DEVICE = 'cuda' if torch.cuda.is_available() else 'cpu'\n",
        "BATCH_SIZE = 8\n",
        "NUM_EPOCHS = 100\n",
        "\n",
        "TRAINING_RATIO = 0.7\n",
        "\n",
        "print(\"use device:\", DEVICE)"
      ],
      "execution_count": null,
      "outputs": []
    },
    {
      "cell_type": "markdown",
      "metadata": {
        "id": "mqWn-Q1LwzSB"
      },
      "source": [
        "# **custom dataset**"
      ]
    },
    {
      "cell_type": "code",
      "metadata": {
        "id": "kcvXKi1ufyaN"
      },
      "source": [
        "from dataloader import FLIRDataset, get_dataloader, split_dataset"
      ],
      "execution_count": null,
      "outputs": []
    },
    {
      "cell_type": "markdown",
      "metadata": {
        "id": "ZPFP5_FQwvUY"
      },
      "source": [
        "# **get dataset and dataloader**"
      ]
    },
    {
      "cell_type": "code",
      "metadata": {
        "colab": {
          "base_uri": "https://localhost:8080/"
        },
        "id": "oVHphcUAwu9K",
        "outputId": "6409be9f-d0ee-4887-f34e-f3d34bdce244"
      },
      "source": [
        "data_root_dir = '/content/gdrive/MyDrive/FLIR'\n",
        "dataset = FLIRDataset(data_root_dir + '/train/', 'thermal_annotations.json')"
      ],
      "execution_count": null,
      "outputs": []
    },
    {
      "cell_type": "code",
      "metadata": {
        "id": "SLEjIugFK5zn"
      },
      "source": [
        "# split training dataset into labeled and unlabeled\n",
        "import numpy as np\n",
        "from torch.utils.data import random_split\n",
        "from torch.utils.data import Dataset, DataLoader\n",
        "from dataloader import collate_fn, split_dataset\n"
      ],
      "execution_count": null,
      "outputs": []
    },
    {
      "cell_type": "markdown",
      "metadata": {
        "id": "Fj1SYFV4qTuh"
      },
      "source": [
        "# **Get model**"
      ]
    },
    {
      "cell_type": "code",
      "metadata": {
        "id": "0iK41y6osU-s"
      },
      "source": [
        "from model import get_model, save_checkpoint, load_checkpoint\n",
        "\n",
        "# background and person\n",
        "num_classes = 2\n",
        "model = get_model(num_classes, pre_train=True)\n",
        "model.to(DEVICE)\n",
        "\n",
        "# construct an optimizer\n",
        "params = [p for p in model.parameters() if p.requires_grad]\n",
        "optimizer = torch.optim.Adam(params, lr=0.001, weight_decay=5e-6)\n",
        "lr_scheduler = None\n"
      ],
      "execution_count": null,
      "outputs": []
    },
    {
      "cell_type": "markdown",
      "metadata": {
        "id": "if7w_AUVTv26"
      },
      "source": [
        "# **Train teacher model**"
      ]
    },
    {
      "cell_type": "code",
      "metadata": {
        "id": "rCXuCBxXcAzr"
      },
      "source": [
        "save_path = '/content/gdrive/MyDrive/FLIR/baseline'\n",
        "import os\n",
        "if not os.path.exists(save_path):\n",
        "    os.mkdir(save_path)"
      ],
      "execution_count": null,
      "outputs": []
    },
    {
      "cell_type": "code",
      "metadata": {
        "colab": {
          "base_uri": "https://localhost:8080/"
        },
        "id": "1jQCbjhDgyrV",
        "outputId": "8a1cfdb5-e4e7-4d3a-8b07-c0bbcb2db488"
      },
      "source": [
        "print(save_path)"
      ],
      "execution_count": null,
      "outputs": []
    },
    {
      "cell_type": "code",
      "metadata": {
        "id": "CKiQtm3VsXX2",
        "colab": {
          "base_uri": "https://localhost:8080/"
        },
        "outputId": "ed40acc8-82ce-4a20-e6ea-2623f9005aa5"
      },
      "source": [
        "from train_teacher import train_teacher_model\n",
        "\n",
        "train_teacher_model(model, dataset, optimizer, lr_scheduler, \n",
        "                    train_ratio=TRAINING_RATIO, batch_size=BATCH_SIZE, device=DEVICE, \n",
        "                    max_epochs=500, print_freq=500, save_path=save_path)"
      ],
      "execution_count": null,
      "outputs": []
    },
    {
      "source": [
        "import numpy as np\n",
        "np.savez(os.path.join(save_path, \"train_loss.npz\"), train_loss=np.array(all_training_loss), val_loss=np.array(all_validation_loss))\n",
        "import matplotlib.pyplot as plt\n",
        "plt.figure()\n",
        "plt.plot(all_training_loss)\n",
        "plt.plot(all_validation_loss)"
      ],
      "cell_type": "code",
      "metadata": {
        "id": "XZN1pRMkesZ3"
      },
      "execution_count": null,
      "outputs": []
    },
    {
      "cell_type": "code",
      "metadata": {
        "id": "F2EO1TzV9iKz"
      },
      "source": [
        "# load the best teacher model\n",
        "checkpoint = '/content/gdrive/MyDrive/FLIR/teacher_model-0.1/0007.tar'\n",
        "model, optimizer, lr_scheduler, _ = load_checkpoint(model, optimizer, lr_scheduler, DEVICE,checkpoint)"
      ],
      "execution_count": null,
      "outputs": []
    },
    {
      "cell_type": "code",
      "metadata": {
        "id": "NErU4fVKepto"
      },
      "source": [
        "test_dataset = FLIRDataset(data_root_dir + '/val/', 'thermal_annotations.json')\n",
        "test_dataloader = DataLoader(test_dataset, batch_size=BATCH_SIZE, shuffle=False, collate_fn=collate_fn)"
      ],
      "execution_count": null,
      "outputs": []
    },
    {
      "cell_type": "code",
      "metadata": {
        "id": "UgsfP-SJ8i2N"
      },
      "source": [
        "from coco_evaluate import coco_evaluate\n",
        "coco_evaluate(model, test_dataloader, DEVICE)"
      ],
      "execution_count": null,
      "outputs": []
    },
    {
      "cell_type": "code",
      "metadata": {
        "colab": {
          "base_uri": "https://localhost:8080/",
          "height": 445
        },
        "id": "rDqDkcdGsPb9",
        "outputId": "42edfb89-d05f-40ef-fc25-f487550ca3d2"
      },
      "source": [
        "# visualize the performance\n",
        "import random\n",
        "model.eval()\n",
        "image, target = test_dataset.__getitem__(random.randint(0, test_dataset.__len__() - 1))\n",
        "predict = model([image.to(DEVICE)])\n",
        "predict = predict[0]\n",
        "\n",
        "import matplotlib.pyplot as plt\n",
        "import matplotlib.patches as patches\n",
        "image = image[0, :, :].to('cpu').detach().numpy()\n",
        "fig, ax = plt.subplots(1)\n",
        "box = predict[\"boxes\"]\n",
        "index = predict[\"scores\"] > 0.5\n",
        "box = box[index, :].to('cpu').detach().numpy()\n",
        "ax.imshow(image, cmap='gray')\n",
        "for i in range(box.shape[0]):\n",
        "  rect = patches.Rectangle((box[i, 0], box[i, 1]), box[i, 2] - box[i, 0], box[i, 3] - box[i, 1], linewidth=1, edgecolor='r', facecolor='none')\n",
        "  ax.add_patch(rect)\n",
        "print(target[\"boxes\"])\n",
        "\n",
        "plt.show()\n",
        "print(predict[\"scores\"][index])\n"
      ],
      "execution_count": null,
      "outputs": []
    }
  ]
}